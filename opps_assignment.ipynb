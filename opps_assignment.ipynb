{
 "cells": [
  {
   "cell_type": "code",
   "execution_count": null,
   "id": "355b1f88-b67f-4db7-b4c2-c25f1a87792a",
   "metadata": {},
   "outputs": [],
   "source": [
    "1.ans: abstraction in python is defined as the process of handeling complexity by hidding unnecessary information\n",
    "from the user.example:-\n",
    "import abc\n",
    "class pwskills:\n",
    "    abc.abstractmethod\n",
    "    def p1(self):\n",
    "        pass\n",
    "    \n",
    "    abc.abstractmethod\n",
    "    def p2(self):\n",
    "        pass"
   ]
  },
  {
   "cell_type": "code",
   "execution_count": null,
   "id": "07f79a3d-5f86-41a9-a1f7-1f31c1940063",
   "metadata": {},
   "outputs": [],
   "source": [
    "2.ans:Abstraction is hiding the details and implementation of the code.\n",
    "Encapsulation is hiding the data and controlling the visibility of the code.\n",
    "Phase\n",
    "Abstraction is a design level process.\n",
    "Encapsulation is an implementation level process.\n",
    "Pivotal Ability\n",
    "Abstraction is concerned about what a class instance can do, instead of the implementation of the class.\n",
    "Encapsulation helps in data binding and control over maintaining the transparency of the data.\n",
    "Use Case\n",
    "Abstraction is a design level process and it is used to reduce the complexity at the designing stage of a project.\n",
    "Encapsulation is an implementation level process, and it is used to provide privacy and maintain control over the transparency of data at the implementation stage of a project."
   ]
  },
  {
   "cell_type": "code",
   "execution_count": null,
   "id": "dfcc0fb0-9cea-4040-93f6-07548cba51c8",
   "metadata": {},
   "outputs": [],
   "source": [
    "3.ans: The 'abc' module in Python library provides the infrastructure for defining custom abstract base classes.\n",
    "\n",
    "'abc' works by marking methods of the base class as abstract. This is done by @absttractmethod decorator. "
   ]
  },
  {
   "cell_type": "code",
   "execution_count": null,
   "id": "985cb450-2506-4273-957a-9b887536903a",
   "metadata": {},
   "outputs": [],
   "source": [
    "4.ans:Data Abstraction in Python can be achieved through creating abstract classes and inheriting them later.\n",
    "we can achive it by calling inport abc and using abc.abstractmethod"
   ]
  },
  {
   "cell_type": "code",
   "execution_count": null,
   "id": "563a9958-baaf-4f86-90b9-d4367127889c",
   "metadata": {},
   "outputs": [],
   "source": [
    "5.ans:Can you create an instance of an abstract class in Python?\n",
    "Abstract classes are not complete, as they may have some methods that are not defined. So we cannot create an instance or object of an abstract class in Python."
   ]
  }
 ],
 "metadata": {
  "kernelspec": {
   "display_name": "Python 3 (ipykernel)",
   "language": "python",
   "name": "python3"
  },
  "language_info": {
   "codemirror_mode": {
    "name": "ipython",
    "version": 3
   },
   "file_extension": ".py",
   "mimetype": "text/x-python",
   "name": "python",
   "nbconvert_exporter": "python",
   "pygments_lexer": "ipython3",
   "version": "3.10.8"
  }
 },
 "nbformat": 4,
 "nbformat_minor": 5
}
